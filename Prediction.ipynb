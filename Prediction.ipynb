{
  "nbformat": 4,
  "nbformat_minor": 0,
  "metadata": {
    "colab": {
      "name": "Prediction.ipynb",
      "provenance": [],
      "collapsed_sections": [],
      "include_colab_link": true
    },
    "kernelspec": {
      "name": "python3",
      "display_name": "Python 3"
    },
    "language_info": {
      "name": "python"
    },
    "accelerator": "GPU"
  },
  "cells": [
    {
      "cell_type": "markdown",
      "metadata": {
        "id": "view-in-github",
        "colab_type": "text"
      },
      "source": [
        "<a href=\"https://colab.research.google.com/github/mertbkts/Bitcoin-Price-Prediction-Using-Twitter-Sentiment-Analysis/blob/main/Prediction.ipynb\" target=\"_parent\"><img src=\"https://colab.research.google.com/assets/colab-badge.svg\" alt=\"Open In Colab\"/></a>"
      ]
    },
    {
      "cell_type": "markdown",
      "metadata": {
        "id": "Ox8KdQCAp-gu"
      },
      "source": [
        "Importing Dependencies"
      ]
    },
    {
      "cell_type": "code",
      "metadata": {
        "id": "Cmxrfxv8V_Ya"
      },
      "source": [
        "from keras.models import load_model\n",
        "from sklearn.preprocessing import StandardScaler\n",
        "import pandas as pd\n",
        "import numpy as np\n",
        "from joblib import dump, load"
      ],
      "execution_count": null,
      "outputs": []
    },
    {
      "cell_type": "markdown",
      "source": [
        "Prediction"
      ],
      "metadata": {
        "id": "0EYQvmXqnR18"
      }
    },
    {
      "cell_type": "code",
      "metadata": {
        "id": "ryjKf_xsVgFv"
      },
      "source": [
        "def prediction(Negative, Neutral, Positive, Open ):\n",
        "  model = load_model(# Your model's path)\n",
        "  scaler=load(# Your scaling parameter's path)\n",
        "\n",
        "  # Define various elements and preprocess\n",
        "  input= np.array([[Negative, Neutral, Positive, Open]])\n",
        "  df = pd.DataFrame(input)\n",
        "  df.astype({0: 'int64', 1:'int64', 2: 'int64', 3: 'float64'}).dtypes\n",
        "  input=scaler.transform(df)\n",
        "  score = model.predict(input, verbose=1)\n",
        "  print(score)"
      ],
      "execution_count": null,
      "outputs": []
    },
    {
      "cell_type": "code",
      "metadata": {
        "colab": {
          "base_uri": "https://localhost:8080/"
        },
        "id": "aHTWfp_gVsHI",
        "outputId": "5ffe3065-db09-42c3-f967-64c5c7cfd7f0"
      },
      "source": [
        "# Please enter values in such way : prediction(Number of Negative Tweets, Number of Neutral Tweets, Number of Positive Tweets, Current Bitcoin Value)\n",
        "prediction(148,200,200,2980.81)"
      ],
      "execution_count": null,
      "outputs": [
        {
          "output_type": "stream",
          "text": [
            "1/1 [==============================] - 10s 10s/step\n",
            "[[3000.3662]]\n"
          ],
          "name": "stdout"
        }
      ]
    }
  ]
}